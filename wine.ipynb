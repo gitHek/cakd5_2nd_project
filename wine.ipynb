{
 "cells": [
  {
   "cell_type": "code",
   "execution_count": 4,
   "metadata": {},
   "outputs": [
    {
     "data": {
      "text/html": [
       "<div>\n",
       "<style scoped>\n",
       "    .dataframe tbody tr th:only-of-type {\n",
       "        vertical-align: middle;\n",
       "    }\n",
       "\n",
       "    .dataframe tbody tr th {\n",
       "        vertical-align: top;\n",
       "    }\n",
       "\n",
       "    .dataframe thead th {\n",
       "        text-align: right;\n",
       "    }\n",
       "</style>\n",
       "<table border=\"1\" class=\"dataframe\">\n",
       "  <thead>\n",
       "    <tr style=\"text-align: right;\">\n",
       "      <th></th>\n",
       "      <th>인기순위</th>\n",
       "      <th>이름</th>\n",
       "      <th>영문이름</th>\n",
       "      <th>종류</th>\n",
       "      <th>나라</th>\n",
       "      <th>생산지</th>\n",
       "      <th>제조사</th>\n",
       "      <th>포도품종</th>\n",
       "      <th>알코올도수</th>\n",
       "      <th>가격</th>\n",
       "      <th>평점</th>\n",
       "      <th>산도</th>\n",
       "      <th>당도</th>\n",
       "      <th>바디감</th>\n",
       "      <th>탄닌</th>\n",
       "      <th>주소</th>\n",
       "      <th>추천순위</th>\n",
       "      <th>구매가능여부</th>\n",
       "    </tr>\n",
       "  </thead>\n",
       "  <tbody>\n",
       "    <tr>\n",
       "      <th>0</th>\n",
       "      <td>1</td>\n",
       "      <td>푸나무 소비뇽블랑</td>\n",
       "      <td>POUNAMU SAUVIGNON BLANC</td>\n",
       "      <td>White</td>\n",
       "      <td>뉴질랜드</td>\n",
       "      <td>말보로</td>\n",
       "      <td>리틀뷰티 (Little Beauty)</td>\n",
       "      <td>소비뇽블랑 (Sauvignon Blanc) 100%</td>\n",
       "      <td>13.0</td>\n",
       "      <td>32000</td>\n",
       "      <td>4.0</td>\n",
       "      <td>4</td>\n",
       "      <td>0</td>\n",
       "      <td>2</td>\n",
       "      <td>0</td>\n",
       "      <td>https://www.winenara.com/goods/goods_view.php?...</td>\n",
       "      <td>323</td>\n",
       "      <td>구매 예약</td>\n",
       "    </tr>\n",
       "    <tr>\n",
       "      <th>1</th>\n",
       "      <td>2</td>\n",
       "      <td>시모네 페브르 크레망 드 부르고뉴 브뤼</td>\n",
       "      <td>SIMONNET FEBVRE CREMANT DE BOURGOGNE BRUT</td>\n",
       "      <td>Sparkling</td>\n",
       "      <td>프랑스</td>\n",
       "      <td>부르고뉴</td>\n",
       "      <td>시모네 페브르</td>\n",
       "      <td>샤르도네(Chardonnay) 60%, 피노 누아(Pinot Noir) 40%</td>\n",
       "      <td>12.5</td>\n",
       "      <td>32000</td>\n",
       "      <td>3.7</td>\n",
       "      <td>3</td>\n",
       "      <td>1</td>\n",
       "      <td>2</td>\n",
       "      <td>0</td>\n",
       "      <td>https://www.winenara.com/goods/goods_view.php?...</td>\n",
       "      <td>480</td>\n",
       "      <td>구매 예약</td>\n",
       "    </tr>\n",
       "    <tr>\n",
       "      <th>2</th>\n",
       "      <td>3</td>\n",
       "      <td>아발론 카베르네소비뇽</td>\n",
       "      <td>AVALON CALIFORNIA</td>\n",
       "      <td>Red</td>\n",
       "      <td>미국</td>\n",
       "      <td>캘리포니아</td>\n",
       "      <td>아발론 와이너리</td>\n",
       "      <td>까베르네 소비뇽 (Cabernet Sauvignon) 76%, 시라 (Syrah) ...</td>\n",
       "      <td>13.8</td>\n",
       "      <td>24900</td>\n",
       "      <td>3.5</td>\n",
       "      <td>3</td>\n",
       "      <td>1</td>\n",
       "      <td>3</td>\n",
       "      <td>3</td>\n",
       "      <td>https://www.winenara.com/goods/goods_view.php?...</td>\n",
       "      <td>514</td>\n",
       "      <td>구매 예약</td>\n",
       "    </tr>\n",
       "    <tr>\n",
       "      <th>3</th>\n",
       "      <td>4</td>\n",
       "      <td>더 프리즈너</td>\n",
       "      <td>The Prisoner</td>\n",
       "      <td>Red</td>\n",
       "      <td>미국</td>\n",
       "      <td>나파 밸리</td>\n",
       "      <td>더 프리즈너 와인 컴퍼니</td>\n",
       "      <td>진판델 (Zinfandel) 44%, 까베르네 소비뇽 (Cabernet Sauvig...</td>\n",
       "      <td>13.9</td>\n",
       "      <td>120000</td>\n",
       "      <td>4.4</td>\n",
       "      <td>4</td>\n",
       "      <td>1</td>\n",
       "      <td>4</td>\n",
       "      <td>4</td>\n",
       "      <td>https://www.winenara.com/goods/goods_view.php?...</td>\n",
       "      <td>482</td>\n",
       "      <td>구매 불가</td>\n",
       "    </tr>\n",
       "    <tr>\n",
       "      <th>4</th>\n",
       "      <td>5</td>\n",
       "      <td>이자디 엘 레갈로</td>\n",
       "      <td>IZADI EL REGALO</td>\n",
       "      <td>Red</td>\n",
       "      <td>스페인</td>\n",
       "      <td>리오하</td>\n",
       "      <td>보데가스 이자디 (Bodegas Izadi)</td>\n",
       "      <td>템프라니요 (Tempranillo) 90%, 가르나차 (Garnacha), 그라시아...</td>\n",
       "      <td>14.1</td>\n",
       "      <td>77000</td>\n",
       "      <td>4.0</td>\n",
       "      <td>3</td>\n",
       "      <td>0</td>\n",
       "      <td>4</td>\n",
       "      <td>3</td>\n",
       "      <td>https://www.winenara.com/goods/goods_view.php?...</td>\n",
       "      <td>155</td>\n",
       "      <td>구매 불가</td>\n",
       "    </tr>\n",
       "    <tr>\n",
       "      <th>...</th>\n",
       "      <td>...</td>\n",
       "      <td>...</td>\n",
       "      <td>...</td>\n",
       "      <td>...</td>\n",
       "      <td>...</td>\n",
       "      <td>...</td>\n",
       "      <td>...</td>\n",
       "      <td>...</td>\n",
       "      <td>...</td>\n",
       "      <td>...</td>\n",
       "      <td>...</td>\n",
       "      <td>...</td>\n",
       "      <td>...</td>\n",
       "      <td>...</td>\n",
       "      <td>...</td>\n",
       "      <td>...</td>\n",
       "      <td>...</td>\n",
       "      <td>...</td>\n",
       "    </tr>\n",
       "    <tr>\n",
       "      <th>624</th>\n",
       "      <td>625</td>\n",
       "      <td>일 까르보나이오네</td>\n",
       "      <td>IL CARBONAIONE</td>\n",
       "      <td>Red</td>\n",
       "      <td>이탈리아</td>\n",
       "      <td>토스카나</td>\n",
       "      <td>포데레 포죠 스칼레테</td>\n",
       "      <td>산지오베제 디 라몰레 (Saniovese di Lamole) 100%</td>\n",
       "      <td>13.5</td>\n",
       "      <td>200000</td>\n",
       "      <td>4.1</td>\n",
       "      <td>4</td>\n",
       "      <td>1</td>\n",
       "      <td>4</td>\n",
       "      <td>3</td>\n",
       "      <td>https://www.winenara.com/goods/goods_view.php?...</td>\n",
       "      <td>484</td>\n",
       "      <td>구매 예약</td>\n",
       "    </tr>\n",
       "    <tr>\n",
       "      <th>625</th>\n",
       "      <td>626</td>\n",
       "      <td>레 디페제</td>\n",
       "      <td>LE DIFESE</td>\n",
       "      <td>Red</td>\n",
       "      <td>이탈리아</td>\n",
       "      <td>토스카나, 볼게리</td>\n",
       "      <td>테누타 산 귀도</td>\n",
       "      <td>까베르네 소비뇽 (Cabernet Sauvignon) 70%, 산지오베제 (Sang...</td>\n",
       "      <td>13.5</td>\n",
       "      <td>48000</td>\n",
       "      <td>3.8</td>\n",
       "      <td>3</td>\n",
       "      <td>1</td>\n",
       "      <td>3</td>\n",
       "      <td>3</td>\n",
       "      <td>https://www.winenara.com/goods/goods_view.php?...</td>\n",
       "      <td>508</td>\n",
       "      <td>구매 불가</td>\n",
       "    </tr>\n",
       "    <tr>\n",
       "      <th>626</th>\n",
       "      <td>627</td>\n",
       "      <td>끌로 모가도르</td>\n",
       "      <td>CLOS MOGADOR</td>\n",
       "      <td>Red</td>\n",
       "      <td>스페인</td>\n",
       "      <td>프리오라트</td>\n",
       "      <td>끌로 모가도르</td>\n",
       "      <td>가르나차 45%, 까리냥 29%, 시라 16%, 카베르네 소비뇽 10%</td>\n",
       "      <td>15.0</td>\n",
       "      <td>290000</td>\n",
       "      <td>4.4</td>\n",
       "      <td>4</td>\n",
       "      <td>0</td>\n",
       "      <td>4</td>\n",
       "      <td>4</td>\n",
       "      <td>https://www.winenara.com/goods/goods_view.php?...</td>\n",
       "      <td>522</td>\n",
       "      <td>구매 예약</td>\n",
       "    </tr>\n",
       "    <tr>\n",
       "      <th>627</th>\n",
       "      <td>628</td>\n",
       "      <td>샤또 드 샤미레 메르퀴레 화이트</td>\n",
       "      <td>CHATEAU DE CHAMIREY MERCUREY WHITE</td>\n",
       "      <td>White</td>\n",
       "      <td>프랑스</td>\n",
       "      <td>부르고뉴, 꼬뜨 샬로네즈, 메르퀴레</td>\n",
       "      <td>샤또 드 샤미레</td>\n",
       "      <td>샤르도네 (Chardonnay)</td>\n",
       "      <td>13.5</td>\n",
       "      <td>89000</td>\n",
       "      <td>3.9</td>\n",
       "      <td>3</td>\n",
       "      <td>0</td>\n",
       "      <td>3</td>\n",
       "      <td>0</td>\n",
       "      <td>https://www.winenara.com/goods/goods_view.php?...</td>\n",
       "      <td>533</td>\n",
       "      <td>구매 예약</td>\n",
       "    </tr>\n",
       "    <tr>\n",
       "      <th>628</th>\n",
       "      <td>629</td>\n",
       "      <td>몬페르토네</td>\n",
       "      <td>MOMPERTONE</td>\n",
       "      <td>Red</td>\n",
       "      <td>이탈리아</td>\n",
       "      <td>피에몬테, 몬페라토</td>\n",
       "      <td>프루노토, 안티노리</td>\n",
       "      <td>바르베라(Barbera) 60%, 시라(Syrah) 40%</td>\n",
       "      <td>13.5</td>\n",
       "      <td>45000</td>\n",
       "      <td>3.7</td>\n",
       "      <td>3</td>\n",
       "      <td>1</td>\n",
       "      <td>4</td>\n",
       "      <td>3</td>\n",
       "      <td>https://www.winenara.com/goods/goods_view.php?...</td>\n",
       "      <td>549</td>\n",
       "      <td>구매 불가</td>\n",
       "    </tr>\n",
       "  </tbody>\n",
       "</table>\n",
       "<p>629 rows × 18 columns</p>\n",
       "</div>"
      ],
      "text/plain": [
       "     인기순위                     이름                                       영문이름  \\\n",
       "0       1              푸나무 소비뇽블랑                    POUNAMU SAUVIGNON BLANC   \n",
       "1       2  시모네 페브르 크레망 드 부르고뉴 브뤼  SIMONNET FEBVRE CREMANT DE BOURGOGNE BRUT   \n",
       "2       3            아발론 카베르네소비뇽                          AVALON CALIFORNIA   \n",
       "3       4                 더 프리즈너                               The Prisoner   \n",
       "4       5              이자디 엘 레갈로                            IZADI EL REGALO   \n",
       "..    ...                    ...                                        ...   \n",
       "624   625              일 까르보나이오네                             IL CARBONAIONE   \n",
       "625   626                  레 디페제                                  LE DIFESE   \n",
       "626   627                끌로 모가도르                               CLOS MOGADOR   \n",
       "627   628      샤또 드 샤미레 메르퀴레 화이트         CHATEAU DE CHAMIREY MERCUREY WHITE   \n",
       "628   629                  몬페르토네                                 MOMPERTONE   \n",
       "\n",
       "            종류    나라                  생산지                       제조사  \\\n",
       "0        White  뉴질랜드                  말보로      리틀뷰티 (Little Beauty)   \n",
       "1    Sparkling   프랑스                 부르고뉴                   시모네 페브르   \n",
       "2          Red    미국                캘리포니아                  아발론 와이너리   \n",
       "3          Red    미국                나파 밸리             더 프리즈너 와인 컴퍼니   \n",
       "4          Red   스페인                  리오하  보데가스 이자디 (Bodegas Izadi)   \n",
       "..         ...   ...                  ...                       ...   \n",
       "624        Red  이탈리아                 토스카나               포데레 포죠 스칼레테   \n",
       "625        Red  이탈리아            토스카나, 볼게리                  테누타 산 귀도   \n",
       "626        Red   스페인                프리오라트                   끌로 모가도르   \n",
       "627      White   프랑스  부르고뉴, 꼬뜨 샬로네즈, 메르퀴레                  샤또 드 샤미레   \n",
       "628        Red  이탈리아           피에몬테, 몬페라토                프루노토, 안티노리   \n",
       "\n",
       "                                                  포도품종  알코올도수      가격   평점  \\\n",
       "0                         소비뇽블랑 (Sauvignon Blanc) 100%   13.0   32000  4.0   \n",
       "1          샤르도네(Chardonnay) 60%, 피노 누아(Pinot Noir) 40%   12.5   32000  3.7   \n",
       "2    까베르네 소비뇽 (Cabernet Sauvignon) 76%, 시라 (Syrah) ...   13.8   24900  3.5   \n",
       "3    진판델 (Zinfandel) 44%, 까베르네 소비뇽 (Cabernet Sauvig...   13.9  120000  4.4   \n",
       "4    템프라니요 (Tempranillo) 90%, 가르나차 (Garnacha), 그라시아...   14.1   77000  4.0   \n",
       "..                                                 ...    ...     ...  ...   \n",
       "624             산지오베제 디 라몰레 (Saniovese di Lamole) 100%   13.5  200000  4.1   \n",
       "625  까베르네 소비뇽 (Cabernet Sauvignon) 70%, 산지오베제 (Sang...   13.5   48000  3.8   \n",
       "626            가르나차 45%, 까리냥 29%, 시라 16%, 카베르네 소비뇽 10%   15.0  290000  4.4   \n",
       "627                                  샤르도네 (Chardonnay)   13.5   89000  3.9   \n",
       "628                   바르베라(Barbera) 60%, 시라(Syrah) 40%   13.5   45000  3.7   \n",
       "\n",
       "     산도  당도  바디감  탄닌                                                 주소  추천순위  \\\n",
       "0     4   0    2   0  https://www.winenara.com/goods/goods_view.php?...   323   \n",
       "1     3   1    2   0  https://www.winenara.com/goods/goods_view.php?...   480   \n",
       "2     3   1    3   3  https://www.winenara.com/goods/goods_view.php?...   514   \n",
       "3     4   1    4   4  https://www.winenara.com/goods/goods_view.php?...   482   \n",
       "4     3   0    4   3  https://www.winenara.com/goods/goods_view.php?...   155   \n",
       "..   ..  ..  ...  ..                                                ...   ...   \n",
       "624   4   1    4   3  https://www.winenara.com/goods/goods_view.php?...   484   \n",
       "625   3   1    3   3  https://www.winenara.com/goods/goods_view.php?...   508   \n",
       "626   4   0    4   4  https://www.winenara.com/goods/goods_view.php?...   522   \n",
       "627   3   0    3   0  https://www.winenara.com/goods/goods_view.php?...   533   \n",
       "628   3   1    4   3  https://www.winenara.com/goods/goods_view.php?...   549   \n",
       "\n",
       "    구매가능여부  \n",
       "0    구매 예약  \n",
       "1    구매 예약  \n",
       "2    구매 예약  \n",
       "3    구매 불가  \n",
       "4    구매 불가  \n",
       "..     ...  \n",
       "624  구매 예약  \n",
       "625  구매 불가  \n",
       "626  구매 예약  \n",
       "627  구매 예약  \n",
       "628  구매 불가  \n",
       "\n",
       "[629 rows x 18 columns]"
      ]
     },
     "execution_count": 4,
     "metadata": {},
     "output_type": "execute_result"
    }
   ],
   "source": [
    "import pandas as pd\n",
    "\n",
    "wine_df = pd.read_csv('./dataset/wine_df_all.csv',index_col= 0)\n",
    "wine_df"
   ]
  },
  {
   "cell_type": "code",
   "execution_count": 45,
   "metadata": {},
   "outputs": [
    {
     "name": "stderr",
     "output_type": "stream",
     "text": [
      "C:\\Users\\admin\\AppData\\Local\\Temp/ipykernel_11284/1388099897.py:8: SettingWithCopyWarning: \n",
      "A value is trying to be set on a copy of a slice from a DataFrame.\n",
      "Try using .loc[row_indexer,col_indexer] = value instead\n",
      "\n",
      "See the caveats in the documentation: https://pandas.pydata.org/pandas-docs/stable/user_guide/indexing.html#returning-a-view-versus-a-copy\n",
      "  rating['인기순위지수'] = 1.5-StandardScaler().fit_transform(rating[['인기순위']])\n",
      "C:\\Users\\admin\\AppData\\Local\\Temp/ipykernel_11284/1388099897.py:9: SettingWithCopyWarning: \n",
      "A value is trying to be set on a copy of a slice from a DataFrame.\n",
      "Try using .loc[row_indexer,col_indexer] = value instead\n",
      "\n",
      "See the caveats in the documentation: https://pandas.pydata.org/pandas-docs/stable/user_guide/indexing.html#returning-a-view-versus-a-copy\n",
      "  rating['추천지수'] = rating.평점 + (rating.인기순위지수)/2\n"
     ]
    },
    {
     "data": {
      "text/html": [
       "<div>\n",
       "<style scoped>\n",
       "    .dataframe tbody tr th:only-of-type {\n",
       "        vertical-align: middle;\n",
       "    }\n",
       "\n",
       "    .dataframe tbody tr th {\n",
       "        vertical-align: top;\n",
       "    }\n",
       "\n",
       "    .dataframe thead th {\n",
       "        text-align: right;\n",
       "    }\n",
       "</style>\n",
       "<table border=\"1\" class=\"dataframe\">\n",
       "  <thead>\n",
       "    <tr style=\"text-align: right;\">\n",
       "      <th></th>\n",
       "      <th>이름</th>\n",
       "      <th>종류</th>\n",
       "      <th>평점</th>\n",
       "      <th>인기순위</th>\n",
       "      <th>구매가능여부</th>\n",
       "      <th>인기순위지수</th>\n",
       "      <th>추천지수</th>\n",
       "    </tr>\n",
       "  </thead>\n",
       "  <tbody>\n",
       "    <tr>\n",
       "      <th>3</th>\n",
       "      <td>더 프리즈너</td>\n",
       "      <td>Red</td>\n",
       "      <td>4.4</td>\n",
       "      <td>4</td>\n",
       "      <td>구매 불가</td>\n",
       "      <td>3.212777</td>\n",
       "      <td>6.006389</td>\n",
       "    </tr>\n",
       "    <tr>\n",
       "      <th>7</th>\n",
       "      <td>톨퍼들 빈야드 샤르도네</td>\n",
       "      <td>White</td>\n",
       "      <td>4.2</td>\n",
       "      <td>8</td>\n",
       "      <td>구매 불가</td>\n",
       "      <td>3.190748</td>\n",
       "      <td>5.795374</td>\n",
       "    </tr>\n",
       "    <tr>\n",
       "      <th>23</th>\n",
       "      <td>리틀 뷰티 소비뇽 블랑</td>\n",
       "      <td>White</td>\n",
       "      <td>4.2</td>\n",
       "      <td>24</td>\n",
       "      <td>구매 불가</td>\n",
       "      <td>3.102631</td>\n",
       "      <td>5.751315</td>\n",
       "    </tr>\n",
       "    <tr>\n",
       "      <th>28</th>\n",
       "      <td>콘투고</td>\n",
       "      <td>Red</td>\n",
       "      <td>4.2</td>\n",
       "      <td>29</td>\n",
       "      <td>구매 예약</td>\n",
       "      <td>3.075094</td>\n",
       "      <td>5.737547</td>\n",
       "    </tr>\n",
       "    <tr>\n",
       "      <th>78</th>\n",
       "      <td>리지니 브루넬로 디 몬탈치노</td>\n",
       "      <td>Red</td>\n",
       "      <td>4.3</td>\n",
       "      <td>79</td>\n",
       "      <td>구매 예약</td>\n",
       "      <td>2.799728</td>\n",
       "      <td>5.699864</td>\n",
       "    </tr>\n",
       "    <tr>\n",
       "      <th>...</th>\n",
       "      <td>...</td>\n",
       "      <td>...</td>\n",
       "      <td>...</td>\n",
       "      <td>...</td>\n",
       "      <td>...</td>\n",
       "      <td>...</td>\n",
       "      <td>...</td>\n",
       "    </tr>\n",
       "    <tr>\n",
       "      <th>434</th>\n",
       "      <td>[하프와인] 알파카 샤르도네 세미옹</td>\n",
       "      <td>White</td>\n",
       "      <td>2.9</td>\n",
       "      <td>435</td>\n",
       "      <td>구매 예약</td>\n",
       "      <td>0.839121</td>\n",
       "      <td>3.319561</td>\n",
       "    </tr>\n",
       "    <tr>\n",
       "      <th>560</th>\n",
       "      <td>알파카 카르메네르</td>\n",
       "      <td>Red</td>\n",
       "      <td>3.1</td>\n",
       "      <td>561</td>\n",
       "      <td>구매 예약</td>\n",
       "      <td>0.145199</td>\n",
       "      <td>3.172599</td>\n",
       "    </tr>\n",
       "    <tr>\n",
       "      <th>507</th>\n",
       "      <td>우르바노</td>\n",
       "      <td>Red</td>\n",
       "      <td>2.9</td>\n",
       "      <td>508</td>\n",
       "      <td>구매 예약</td>\n",
       "      <td>0.437087</td>\n",
       "      <td>3.118543</td>\n",
       "    </tr>\n",
       "    <tr>\n",
       "      <th>608</th>\n",
       "      <td>비냐 파디야</td>\n",
       "      <td>Red</td>\n",
       "      <td>3.1</td>\n",
       "      <td>609</td>\n",
       "      <td>구매 예약</td>\n",
       "      <td>-0.119153</td>\n",
       "      <td>3.040424</td>\n",
       "    </tr>\n",
       "    <tr>\n",
       "      <th>561</th>\n",
       "      <td>알파카 카베르네 메를로</td>\n",
       "      <td>Red</td>\n",
       "      <td>2.8</td>\n",
       "      <td>562</td>\n",
       "      <td>구매 예약</td>\n",
       "      <td>0.139691</td>\n",
       "      <td>2.869846</td>\n",
       "    </tr>\n",
       "  </tbody>\n",
       "</table>\n",
       "<p>629 rows × 7 columns</p>\n",
       "</div>"
      ],
      "text/plain": [
       "                      이름     종류   평점  인기순위 구매가능여부    인기순위지수      추천지수\n",
       "3                 더 프리즈너    Red  4.4     4  구매 불가  3.212777  6.006389\n",
       "7           톨퍼들 빈야드 샤르도네  White  4.2     8  구매 불가  3.190748  5.795374\n",
       "23          리틀 뷰티 소비뇽 블랑  White  4.2    24  구매 불가  3.102631  5.751315\n",
       "28                   콘투고    Red  4.2    29  구매 예약  3.075094  5.737547\n",
       "78       리지니 브루넬로 디 몬탈치노    Red  4.3    79  구매 예약  2.799728  5.699864\n",
       "..                   ...    ...  ...   ...    ...       ...       ...\n",
       "434  [하프와인] 알파카 샤르도네 세미옹  White  2.9   435  구매 예약  0.839121  3.319561\n",
       "560            알파카 카르메네르    Red  3.1   561  구매 예약  0.145199  3.172599\n",
       "507                 우르바노    Red  2.9   508  구매 예약  0.437087  3.118543\n",
       "608               비냐 파디야    Red  3.1   609  구매 예약 -0.119153  3.040424\n",
       "561         알파카 카베르네 메를로    Red  2.8   562  구매 예약  0.139691  2.869846\n",
       "\n",
       "[629 rows x 7 columns]"
      ]
     },
     "execution_count": 45,
     "metadata": {},
     "output_type": "execute_result"
    }
   ],
   "source": [
    "# 추천순위는 단순한 조회수만 가지고 선정한것이기에 추천지수로 사용하기 적절하지 않다고 판단하여 제외하고\n",
    "# 인기순위와 평점으로 추천지수로 가공\n",
    "\n",
    "from sklearn.preprocessing import MinMaxScaler,StandardScaler\n",
    "\n",
    "rating = wine_df[['이름','종류','평점','인기순위','구매가능여부']]\n",
    "\n",
    "rating['인기순위지수'] = 1.5-StandardScaler().fit_transform(rating[['인기순위']])\n",
    "rating['추천지수'] = rating.평점 + (rating.인기순위지수)/2\n",
    "rating.sort_values(by = '추천지수',ascending=False)"
   ]
  },
  {
   "cell_type": "code",
   "execution_count": 46,
   "metadata": {},
   "outputs": [],
   "source": [
    "rating.sort_values(by = '추천지수',ascending=False).to_excel('./dataset/standard_순위_2.xlsx')"
   ]
  },
  {
   "cell_type": "code",
   "execution_count": 9,
   "metadata": {},
   "outputs": [
    {
     "data": {
      "text/plain": [
       "<AxesSubplot:>"
      ]
     },
     "execution_count": 9,
     "metadata": {},
     "output_type": "execute_result"
    },
    {
     "data": {
      "image/png": "[encoded data removed]",
      "text/plain": [
       "<Figure size 1440x720 with 1 Axes>"
      ]
     },
     "metadata": {
      "needs_background": "light"
     },
     "output_type": "display_data"
    }
   ],
   "source": [
    "import matplotlib.pyplot as plt\n",
    "\n",
    "plt.figure(figsize=(20,10))\n",
    "wine_df.평점.hist(bins = 30)"
   ]
  },
  {
   "cell_type": "code",
   "execution_count": 30,
   "metadata": {},
   "outputs": [
    {
     "data": {
      "text/plain": [
       "<AxesSubplot:>"
      ]
     },
     "execution_count": 30,
     "metadata": {},
     "output_type": "execute_result"
    },
    {
     "data": {
      "image/png": "[encoded data removed]",
      "text/plain": [
       "<Figure size 1440x720 with 1 Axes>"
      ]
     },
     "metadata": {
      "needs_background": "light"
     },
     "output_type": "display_data"
    }
   ],
   "source": [
    "plt.figure(figsize=(20,10))\n",
    "wine_df.알코올도수.hist(bins = 50)\n",
    "\n",
    "# 알코올 도수 범주화 : 12미만 , 12~13미만, 13이상~14미만 , 14이상"
   ]
  },
  {
   "cell_type": "code",
   "execution_count": 11,
   "metadata": {},
   "outputs": [
    {
     "data": {
      "text/plain": [
       "<AxesSubplot:>"
      ]
     },
     "execution_count": 11,
     "metadata": {},
     "output_type": "execute_result"
    },
    {
     "data": {
      "image/png": "[encoded data removed]",
      "text/plain": [
       "<Figure size 1440x720 with 1 Axes>"
      ]
     },
     "metadata": {
      "needs_background": "light"
     },
     "output_type": "display_data"
    }
   ],
   "source": [
    "plt.figure(figsize=(20,10))\n",
    "wine_df.가격.hist(bins = 50)"
   ]
  },
  {
   "cell_type": "code",
   "execution_count": 12,
   "metadata": {},
   "outputs": [
    {
     "data": {
      "text/plain": [
       "<AxesSubplot:>"
      ]
     },
     "execution_count": 12,
     "metadata": {},
     "output_type": "execute_result"
    },
    {
     "data": {
      "image/png": "[encoded data removed]",
      "text/plain": [
       "<Figure size 1440x720 with 1 Axes>"
      ]
     },
     "metadata": {
      "needs_background": "light"
     },
     "output_type": "display_data"
    }
   ],
   "source": [
    "plt.figure(figsize=(20,10))\n",
    "wine_df.가격[wine_df.가격<200000].hist(bins = 50)"
   ]
  },
  {
   "cell_type": "code",
   "execution_count": 13,
   "metadata": {},
   "outputs": [
    {
     "data": {
      "text/plain": [
       "<AxesSubplot:>"
      ]
     },
     "execution_count": 13,
     "metadata": {},
     "output_type": "execute_result"
    },
    {
     "data": {
      "image/png": "[encoded data removed]",
      "text/plain": [
       "<Figure size 1440x720 with 1 Axes>"
      ]
     },
     "metadata": {
      "needs_background": "light"
     },
     "output_type": "display_data"
    }
   ],
   "source": [
    "plt.figure(figsize=(20,10))\n",
    "wine_df.가격[wine_df.가격<100000].hist(bins = 50)"
   ]
  },
  {
   "cell_type": "code",
   "execution_count": 14,
   "metadata": {},
   "outputs": [
    {
     "data": {
      "text/plain": [
       "0    239\n",
       "1    134\n",
       "3      4\n",
       "4      3\n",
       "2      2\n",
       "Name: 당도, dtype: int64"
      ]
     },
     "execution_count": 14,
     "metadata": {},
     "output_type": "execute_result"
    }
   ],
   "source": [
    "wine_df[wine_df.종류 =='Red'].당도.value_counts()"
   ]
  },
  {
   "cell_type": "code",
   "execution_count": 15,
   "metadata": {},
   "outputs": [
    {
     "data": {
      "text/plain": [
       "0    99\n",
       "1    50\n",
       "2     9\n",
       "4     7\n",
       "3     1\n",
       "Name: 당도, dtype: int64"
      ]
     },
     "execution_count": 15,
     "metadata": {},
     "output_type": "execute_result"
    }
   ],
   "source": [
    "wine_df[wine_df.종류 =='White'].당도.value_counts()"
   ]
  },
  {
   "cell_type": "code",
   "execution_count": 16,
   "metadata": {},
   "outputs": [
    {
     "data": {
      "text/plain": [
       "0    16\n",
       "1     9\n",
       "4     3\n",
       "5     2\n",
       "2     1\n",
       "Name: 당도, dtype: int64"
      ]
     },
     "execution_count": 16,
     "metadata": {},
     "output_type": "execute_result"
    }
   ],
   "source": [
    "wine_df[wine_df.종류 =='Sparkling'].당도.value_counts()"
   ]
  },
  {
   "cell_type": "code",
   "execution_count": 17,
   "metadata": {},
   "outputs": [
    {
     "data": {
      "text/plain": [
       "0    7\n",
       "1    5\n",
       "4    2\n",
       "3    2\n",
       "Name: 당도, dtype: int64"
      ]
     },
     "execution_count": 17,
     "metadata": {},
     "output_type": "execute_result"
    }
   ],
   "source": [
    "wine_df[wine_df.종류 =='Rose'].당도.value_counts()"
   ]
  },
  {
   "cell_type": "code",
   "execution_count": 18,
   "metadata": {},
   "outputs": [
    {
     "data": {
      "text/plain": [
       "0    25\n",
       "1     9\n",
       "Name: 당도, dtype: int64"
      ]
     },
     "execution_count": 18,
     "metadata": {},
     "output_type": "execute_result"
    }
   ],
   "source": [
    "wine_df[wine_df.종류 =='Champagne'].당도.value_counts()"
   ]
  },
  {
   "cell_type": "code",
   "execution_count": 19,
   "metadata": {},
   "outputs": [
    {
     "data": {
      "text/plain": [
       "3    258\n",
       "4     97\n",
       "2     21\n",
       "1      4\n",
       "5      2\n",
       "Name: 산도, dtype: int64"
      ]
     },
     "execution_count": 19,
     "metadata": {},
     "output_type": "execute_result"
    }
   ],
   "source": [
    "wine_df[wine_df.종류 =='Red'].산도.value_counts()"
   ]
  },
  {
   "cell_type": "code",
   "execution_count": 20,
   "metadata": {},
   "outputs": [
    {
     "data": {
      "text/plain": [
       "3    110\n",
       "4     41\n",
       "2      9\n",
       "1      5\n",
       "5      1\n",
       "Name: 산도, dtype: int64"
      ]
     },
     "execution_count": 20,
     "metadata": {},
     "output_type": "execute_result"
    }
   ],
   "source": [
    "wine_df[wine_df.종류 =='White'].산도.value_counts()"
   ]
  },
  {
   "cell_type": "code",
   "execution_count": 21,
   "metadata": {},
   "outputs": [
    {
     "data": {
      "text/plain": [
       "3    18\n",
       "4     7\n",
       "1     3\n",
       "2     3\n",
       "Name: 산도, dtype: int64"
      ]
     },
     "execution_count": 21,
     "metadata": {},
     "output_type": "execute_result"
    }
   ],
   "source": [
    "wine_df[wine_df.종류 =='Sparkling'].산도.value_counts()"
   ]
  },
  {
   "cell_type": "code",
   "execution_count": 22,
   "metadata": {},
   "outputs": [
    {
     "data": {
      "text/plain": [
       "3    12\n",
       "2     2\n",
       "1     1\n",
       "4     1\n",
       "Name: 산도, dtype: int64"
      ]
     },
     "execution_count": 22,
     "metadata": {},
     "output_type": "execute_result"
    }
   ],
   "source": [
    "wine_df[wine_df.종류 =='Rose'].산도.value_counts()"
   ]
  },
  {
   "cell_type": "code",
   "execution_count": 23,
   "metadata": {},
   "outputs": [
    {
     "data": {
      "text/plain": [
       "3    23\n",
       "4     6\n",
       "5     3\n",
       "2     1\n",
       "1     1\n",
       "Name: 산도, dtype: int64"
      ]
     },
     "execution_count": 23,
     "metadata": {},
     "output_type": "execute_result"
    }
   ],
   "source": [
    "wine_df[wine_df.종류 =='Champagne'].산도.value_counts()"
   ]
  },
  {
   "cell_type": "code",
   "execution_count": 24,
   "metadata": {},
   "outputs": [
    {
     "data": {
      "text/plain": [
       "4    182\n",
       "3    145\n",
       "5     35\n",
       "2     19\n",
       "1      1\n",
       "Name: 바디감, dtype: int64"
      ]
     },
     "execution_count": 24,
     "metadata": {},
     "output_type": "execute_result"
    }
   ],
   "source": [
    "wine_df[wine_df.종류 =='Red'].바디감.value_counts()"
   ]
  },
  {
   "cell_type": "code",
   "execution_count": 25,
   "metadata": {},
   "outputs": [
    {
     "data": {
      "text/plain": [
       "3    72\n",
       "2    56\n",
       "4    32\n",
       "1     4\n",
       "5     2\n",
       "Name: 바디감, dtype: int64"
      ]
     },
     "execution_count": 25,
     "metadata": {},
     "output_type": "execute_result"
    }
   ],
   "source": [
    "wine_df[wine_df.종류 =='White'].바디감.value_counts()"
   ]
  },
  {
   "cell_type": "code",
   "execution_count": 26,
   "metadata": {},
   "outputs": [
    {
     "data": {
      "text/plain": [
       "2    13\n",
       "3    11\n",
       "4     5\n",
       "1     1\n",
       "5     1\n",
       "Name: 바디감, dtype: int64"
      ]
     },
     "execution_count": 26,
     "metadata": {},
     "output_type": "execute_result"
    }
   ],
   "source": [
    "wine_df[wine_df.종류 =='Sparkling'].바디감.value_counts()"
   ]
  },
  {
   "cell_type": "code",
   "execution_count": 27,
   "metadata": {},
   "outputs": [
    {
     "data": {
      "text/plain": [
       "2    10\n",
       "3     4\n",
       "4     1\n",
       "1     1\n",
       "Name: 바디감, dtype: int64"
      ]
     },
     "execution_count": 27,
     "metadata": {},
     "output_type": "execute_result"
    }
   ],
   "source": [
    "wine_df[wine_df.종류 =='Rose'].바디감.value_counts()"
   ]
  },
  {
   "cell_type": "code",
   "execution_count": 28,
   "metadata": {},
   "outputs": [
    {
     "data": {
      "text/plain": [
       "3    18\n",
       "4    11\n",
       "2     4\n",
       "5     1\n",
       "Name: 바디감, dtype: int64"
      ]
     },
     "execution_count": 28,
     "metadata": {},
     "output_type": "execute_result"
    }
   ],
   "source": [
    "wine_df[wine_df.종류 =='Champagne'].바디감.value_counts()"
   ]
  },
  {
   "cell_type": "code",
   "execution_count": 29,
   "metadata": {},
   "outputs": [
    {
     "data": {
      "text/plain": [
       "3    187\n",
       "4    133\n",
       "2     35\n",
       "5     16\n",
       "0      8\n",
       "1      3\n",
       "Name: 탄닌, dtype: int64"
      ]
     },
     "execution_count": 29,
     "metadata": {},
     "output_type": "execute_result"
    }
   ],
   "source": [
    "wine_df[wine_df.종류 =='Red'].탄닌.value_counts()"
   ]
  },
  {
   "cell_type": "code",
   "execution_count": null,
   "metadata": {},
   "outputs": [],
   "source": []
  },
  {
   "cell_type": "code",
   "execution_count": null,
   "metadata": {},
   "outputs": [],
   "source": []
  }
 ],
 "metadata": {
  "interpreter": {
   "hash": "8a6378035587bb97055001603ea9d85a2aa377cc6252a50ffca4355a71bc8b90"
  },
  "kernelspec": {
   "display_name": "Python 3.8.10 64-bit",
   "language": "python",
   "name": "python3"
  },
  "language_info": {
   "codemirror_mode": {
    "name": "ipython",
    "version": 3
   },
   "file_extension": ".py",
   "mimetype": "text/x-python",
   "name": "python",
   "nbconvert_exporter": "python",
   "pygments_lexer": "ipython3",
   "version": "3.8.12"
  },
  "orig_nbformat": 4
 },
 "nbformat": 4,
 "nbformat_minor": 2
}
